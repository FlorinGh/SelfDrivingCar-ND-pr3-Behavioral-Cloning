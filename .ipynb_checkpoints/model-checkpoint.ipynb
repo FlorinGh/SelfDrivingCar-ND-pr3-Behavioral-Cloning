{
 "cells": [
  {
   "cell_type": "markdown",
   "metadata": {},
   "source": [
    "## Behavioral Cloning Project\n",
    "Created: Florin Gheorghe  \n",
    "Date: 18/03/2018"
   ]
  },
  {
   "cell_type": "code",
   "execution_count": null,
   "metadata": {},
   "outputs": [],
   "source": [
    "# Import modules\n",
    "import csv\n",
    "import cv2\n",
    "import matplotlib.pyplot as plt\n",
    "import numpy as np\n",
    "import matplotlib.image as mpimg\n",
    "import random\n",
    "from PIL import Image"
   ]
  },
  {
   "cell_type": "code",
   "execution_count": null,
   "metadata": {},
   "outputs": [],
   "source": [
    "# Placeholder to load the driving data\n",
    "images = []\n",
    "steering = []"
   ]
  },
  {
   "cell_type": "code",
   "execution_count": null,
   "metadata": {},
   "outputs": [],
   "source": [
    "# correction for steering\n",
    "corr = 0.15"
   ]
  },
  {
   "cell_type": "code",
   "execution_count": null,
   "metadata": {},
   "outputs": [],
   "source": [
    "lines = []\n",
    "with open('.\\\\driving_data\\\\driving_log.csv') as csvfile:\n",
    "    reader = csv.reader(csvfile)\n",
    "    for line in reader:\n",
    "        lines.append(line)\n",
    "        \n",
    "for line in lines:\n",
    "    # Left camera images\n",
    "    source_path = line[1]\n",
    "    filename = source_path.split('\\\\')[-1]\n",
    "    image = mpimg.imread('.\\\\driving_data\\\\IMG\\\\'+filename)\n",
    "    images.append(image)\n",
    "    angle = float(line[3])\n",
    "    steering.append(angle+corr)\n",
    "    \n",
    "    # Right camera images\n",
    "    source_path = line[2]\n",
    "    filename = source_path.split('\\\\')[-1]\n",
    "    image = mpimg.imread('.\\\\driving_data\\\\IMG\\\\'+filename)\n",
    "    images.append(image)\n",
    "    angle = float(line[3])\n",
    "    steering.append(angle-corr)"
   ]
  },
  {
   "cell_type": "code",
   "execution_count": null,
   "metadata": {},
   "outputs": [],
   "source": [
    "# Augmenting data by flipping and reversing angle\n",
    "x, y = [] , []\n",
    "for image, angle in zip(images, steering):\n",
    "    x.append(image)\n",
    "    y.append(angle)\n",
    "    x.append(cv2.flip(image,1))\n",
    "    y.append(angle*(-1.0))"
   ]
  },
  {
   "cell_type": "code",
   "execution_count": null,
   "metadata": {},
   "outputs": [],
   "source": [
    "# Visualize one random image\n",
    "index = random.randint(0, len(x))\n",
    "image = x[index].squeeze()\n",
    "plt.figure(figsize=(10,6))\n",
    "\n",
    "plt.imshow(image)\n",
    "print(y[index])"
   ]
  },
  {
   "cell_type": "code",
   "execution_count": null,
   "metadata": {},
   "outputs": [],
   "source": [
    "import keras as ks\n",
    "from keras.models import Sequential\n",
    "from keras.layers import Conv2D, MaxPooling2D, Dropout, Activation\n",
    "from keras.layers import Flatten, Dense, Lambda, Cropping2D\n",
    "from sklearn.utils import shuffle"
   ]
  },
  {
   "cell_type": "code",
   "execution_count": null,
   "metadata": {},
   "outputs": [],
   "source": [
    "# Initiating the model\n",
    "model = Sequential()\n",
    "model.add(Lambda(lambda x: x/255.0 - 0.5, input_shape=(160,320,3)))\n",
    "model.add(Cropping2D(cropping=((70, 25), (0, 0))))\n",
    "\n",
    "model.add(Conv2D(24, (5,5), activation='relu'))\n",
    "model.add(Conv2D(36, (5, 5), activation='relu'))\n",
    "model.add(Conv2D(48, (3,3), activation='relu'))\n",
    "\n",
    "model.add(Flatten())\n",
    "model.add(Dense(50))\n",
    "model.add(Dense(10))\n",
    "model.add(Dense(1))"
   ]
  },
  {
   "cell_type": "code",
   "execution_count": null,
   "metadata": {},
   "outputs": [],
   "source": [
    "X_train, y_train = shuffle(np.array(x), np.array(y), random_state=3)"
   ]
  },
  {
   "cell_type": "code",
   "execution_count": null,
   "metadata": {
    "scrolled": false
   },
   "outputs": [],
   "source": [
    "adam = ks.optimizers.Adam(lr=0.001, beta_1=0.9, beta_2=0.999, epsilon=None, decay=0.0, amsgrad=False)\n",
    "model.compile(loss='mse', optimizer=adam)\n",
    "model.fit(X_train, y_train, validation_split=0.2, shuffle=True, epochs=3)"
   ]
  },
  {
   "cell_type": "code",
   "execution_count": null,
   "metadata": {},
   "outputs": [],
   "source": [
    "model.save('./model.h5')"
   ]
  }
 ],
 "metadata": {
  "kernelspec": {
   "display_name": "Python 3",
   "language": "python",
   "name": "python3"
  },
  "language_info": {
   "codemirror_mode": {
    "name": "ipython",
    "version": 3
   },
   "file_extension": ".py",
   "mimetype": "text/x-python",
   "name": "python",
   "nbconvert_exporter": "python",
   "pygments_lexer": "ipython3",
   "version": "3.6.4"
  }
 },
 "nbformat": 4,
 "nbformat_minor": 2
}
