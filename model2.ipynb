{
 "cells": [
  {
   "cell_type": "markdown",
   "metadata": {},
   "source": [
    "## Behavioral Cloning Project using Nvidia network"
   ]
  },
  {
   "cell_type": "code",
   "execution_count": 1,
   "metadata": {},
   "outputs": [],
   "source": [
    "# Import modules\n",
    "import csv\n",
    "import cv2\n",
    "import matplotlib.pyplot as plt\n",
    "import numpy as np\n",
    "import matplotlib.image as mpimg\n",
    "import random\n",
    "import sklearn\n",
    "from sklearn.utils import shuffle"
   ]
  },
  {
   "cell_type": "code",
   "execution_count": 2,
   "metadata": {},
   "outputs": [],
   "source": [
    "# In this model only the lateral images are used; the steering angle is corected with 'corr'\n",
    "corr = 0.25"
   ]
  },
  {
   "cell_type": "code",
   "execution_count": 3,
   "metadata": {},
   "outputs": [],
   "source": [
    "samples = []\n",
    "# to ensure generalization the data was collected driving in a clockwise direction;\n",
    "# in this way, when the car is actually tested on the track it will see completely new images\n",
    "with open('.\\\\data\\\\driving_log.csv') as csvfile:\n",
    "    reader = csv.reader(csvfile)\n",
    "    for line in reader:\n",
    "        samples.append(line)\n",
    "\n",
    "# the data is split in train and validation before any image is seen; this will speed up the algorithm\n",
    "from sklearn.model_selection import train_test_split\n",
    "train_samples, validation_samples = train_test_split(samples, test_size=0.2)"
   ]
  },
  {
   "cell_type": "markdown",
   "metadata": {},
   "source": [
    "<p><span style=\"color:red\"> **I recommend plotting a histogram of the angles in the training dataset to check the balance of the output. Remember that an unbalanced dataset can result in a biased model.**</span></p>"
   ]
  },
  {
   "cell_type": "code",
   "execution_count": 4,
   "metadata": {},
   "outputs": [],
   "source": [
    "# the cases when the steering angle is null in fact means no action for the car\n",
    "# to avoid this cases, when the car has no reaction, we only use only the lateral images\n",
    "def generator(samples, batch_size=128):\n",
    "    num_samples = len(samples)\n",
    "    while 1:\n",
    "        shuffle(samples, random_state=17)\n",
    "        for offset in range(0, num_samples, batch_size):   \n",
    "            batch_samples = samples[offset:offset+batch_size]\n",
    "            images = []\n",
    "            steering = []\n",
    "            for batch_sample in batch_samples:\n",
    "                angle = float(batch_sample[3])\n",
    "                \n",
    "                # Left images\n",
    "                filename = '.\\\\data\\\\IMG\\\\'+batch_sample[1].split('\\\\')[-1]\n",
    "                image = mpimg.imread(filename)\n",
    "                images.append(image)\n",
    "                steering.append(angle+corr)\n",
    "                # augementing the data with the reflected image\n",
    "                images.append(cv2.flip(image,1))\n",
    "                steering.append((angle+corr)*(-1.0))\n",
    "                \n",
    "                # Right images\n",
    "                filename = '.\\\\data\\\\IMG\\\\'+batch_sample[2].split('\\\\')[-1]\n",
    "                image = mpimg.imread(filename)\n",
    "                images.append(image)\n",
    "                steering.append(angle-corr)\n",
    "                # augementing the data with the reflected image\n",
    "                images.append(cv2.flip(image,1))\n",
    "                steering.append((angle+corr)*(-1.0))\n",
    "            \n",
    "            X_train = np.array(images)\n",
    "            y_train = np.array(steering)\n",
    "            yield shuffle(X_train, y_train, random_state=19)"
   ]
  },
  {
   "cell_type": "markdown",
   "metadata": {},
   "source": [
    "<p><span style=\"color:red\"> **I recommend using a different generator without augmentation for validation to simulate real-world usage.**</span></p>"
   ]
  },
  {
   "cell_type": "code",
   "execution_count": 5,
   "metadata": {},
   "outputs": [],
   "source": [
    "# applying the generator function to create the training and validation data sets\n",
    "train_generator = generator(train_samples, batch_size=128)\n",
    "validation_generator = generator(validation_samples, batch_size=128)"
   ]
  },
  {
   "cell_type": "markdown",
   "metadata": {},
   "source": [
    "## Creating the network"
   ]
  },
  {
   "cell_type": "code",
   "execution_count": 6,
   "metadata": {},
   "outputs": [
    {
     "name": "stderr",
     "output_type": "stream",
     "text": [
      "C:\\Users\\flori\\AppData\\Local\\conda\\conda\\envs\\keras-gpu\\lib\\site-packages\\h5py\\__init__.py:36: FutureWarning: Conversion of the second argument of issubdtype from `float` to `np.floating` is deprecated. In future, it will be treated as `np.float64 == np.dtype(float).type`.\n",
      "  from ._conv import register_converters as _register_converters\n",
      "Using TensorFlow backend.\n"
     ]
    }
   ],
   "source": [
    "# importing network modules\n",
    "import keras as ks\n",
    "from keras.models import Sequential\n",
    "from keras.layers import Lambda, Cropping2D, Conv2D, Flatten, Dense"
   ]
  },
  {
   "cell_type": "code",
   "execution_count": 7,
   "metadata": {},
   "outputs": [],
   "source": [
    "# this function will resize the images to the same size as in the Nvidia paper\n",
    "# after this, the images are normalized for faster convergence\n",
    "def resize_normalize_function(input):\n",
    "    from keras.backend import tf\n",
    "    resized = tf.image.resize_images(input, (66,200))\n",
    "    normalized = resized / 255.0 - 0.5\n",
    "    return normalized\n",
    "\n",
    "# initialize network\n",
    "model = Sequential()\n",
    "# crop the top and bottom\n",
    "model.add(Cropping2D(cropping=((75, 25), (0, 0)), input_shape=(160,320,3)))\n",
    "# resize and normalize images; the wonders of lambda functions\n",
    "model.add(Lambda(resize_normalize_function))\n",
    "\n",
    "# 3 convolutions with 2x2 strides and 2 convolutions with default stride\n",
    "model.add(Conv2D(24, (5,5), strides=(2, 2), activation='relu'))\n",
    "model.add(Conv2D(36, (5, 5), strides=(2, 2), activation='relu'))\n",
    "model.add(Conv2D(48, (5, 5), strides=(2, 2), activation='relu'))\n",
    "model.add(Conv2D(64, (3,3), strides=(1, 1), activation='relu'))\n",
    "model.add(Conv2D(64, (3,3), strides=(1, 1), activation='relu'))\n",
    "\n",
    "# flatten and start the fully conected layers\n",
    "model.add(Flatten())\n",
    "model.add(Dense(100))\n",
    "model.add(Dense(50))\n",
    "model.add(Dense(10))\n",
    "\n",
    "# the output layer\n",
    "model.add(Dense(1))"
   ]
  },
  {
   "cell_type": "code",
   "execution_count": 8,
   "metadata": {
    "scrolled": false
   },
   "outputs": [
    {
     "name": "stdout",
     "output_type": "stream",
     "text": [
      "Epoch 1/3\n",
      "7171/7171 [==============================] - 4148s 578ms/step - loss: 0.0040 - val_loss: 0.0147\n",
      "Epoch 2/3\n",
      "7171/7171 [==============================] - 4304s 600ms/step - loss: 0.0011 - val_loss: 0.0132\n",
      "Epoch 3/3\n",
      "7171/7171 [==============================] - 4437s 619ms/step - loss: 7.6208e-04 - val_loss: 0.0129\n"
     ]
    },
    {
     "data": {
      "text/plain": [
       "<keras.callbacks.History at 0x247d6946cf8>"
      ]
     },
     "execution_count": 8,
     "metadata": {},
     "output_type": "execute_result"
    }
   ],
   "source": [
    "adam = ks.optimizers.Adam(lr=0.001, beta_1=0.9, beta_2=0.999, epsilon=None, decay=0.0, amsgrad=False)\n",
    "model.compile(loss='mse', optimizer=adam)\n",
    "# three epochs is just enough\n",
    "model.fit_generator(train_generator, steps_per_epoch=len(train_samples), validation_data=validation_generator, validation_steps=len(validation_samples), epochs=3)"
   ]
  },
  {
   "cell_type": "code",
   "execution_count": 9,
   "metadata": {},
   "outputs": [],
   "source": [
    "# saving the model\n",
    "model.save('./model.h5')"
   ]
  },
  {
   "cell_type": "markdown",
   "metadata": {},
   "source": [
    "<p><span style=\"color:red\"> **You can evaluate the robustness of your model by having it drive at higher speeds.**</span></p>"
   ]
  }
 ],
 "metadata": {
  "kernelspec": {
   "display_name": "Python 3",
   "language": "python",
   "name": "python3"
  },
  "language_info": {
   "codemirror_mode": {
    "name": "ipython",
    "version": 3
   },
   "file_extension": ".py",
   "mimetype": "text/x-python",
   "name": "python",
   "nbconvert_exporter": "python",
   "pygments_lexer": "ipython3",
   "version": "3.6.4"
  }
 },
 "nbformat": 4,
 "nbformat_minor": 2
}
